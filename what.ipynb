{
 "cells": [
  {
   "cell_type": "code",
   "execution_count": 23,
   "metadata": {},
   "outputs": [
    {
     "data": {
      "text/plain": [
       "'code'"
      ]
     },
     "execution_count": 23,
     "metadata": {},
     "output_type": "execute_result"
    }
   ],
   "source": [
    "i = 1\n",
    "\n",
    "'mcwuoocdwhe'[i::3]\n"
   ]
  },
  {
   "cell_type": "code",
   "execution_count": 32,
   "metadata": {},
   "outputs": [
    {
     "data": {
      "text/plain": [
       "int"
      ]
     },
     "execution_count": 32,
     "metadata": {},
     "output_type": "execute_result"
    }
   ],
   "source": [
    "s = [\"1\",\"2\",\"3\"]\n",
    "a = [int(i) for i in s]\n",
    "type(a[1])"
   ]
  },
  {
   "cell_type": "code",
   "execution_count": 38,
   "metadata": {},
   "outputs": [
    {
     "data": {
      "text/plain": [
       "3"
      ]
     },
     "execution_count": 38,
     "metadata": {},
     "output_type": "execute_result"
    }
   ],
   "source": [
    "s = [\"1\",\"2\",\"3\",\"1\"]\n",
    "len(set(s))"
   ]
  },
  {
   "cell_type": "code",
   "execution_count": 52,
   "metadata": {},
   "outputs": [
    {
     "data": {
      "text/plain": [
       "['1', '3', '2', '1']"
      ]
     },
     "execution_count": 52,
     "metadata": {},
     "output_type": "execute_result"
    }
   ],
   "source": [
    "s = [\"1\",\"2\",\"3\",\"1\"]\n",
    "[i for i in s[::-1]]\n"
   ]
  },
  {
   "cell_type": "code",
   "execution_count": 53,
   "metadata": {},
   "outputs": [
    {
     "data": {
      "text/plain": [
       "[0, 3]"
      ]
     },
     "execution_count": 53,
     "metadata": {},
     "output_type": "execute_result"
    }
   ],
   "source": [
    "s = [\"1\",\"2\",\"3\",\"1\"]\n",
    "x = \"1\"\n",
    "[i for i, z in enumerate(s) if z == x]\n"
   ]
  },
  {
   "cell_type": "code",
   "execution_count": 76,
   "metadata": {},
   "outputs": [
    {
     "data": {
      "text/plain": [
       "4"
      ]
     },
     "execution_count": 76,
     "metadata": {},
     "output_type": "execute_result"
    }
   ],
   "source": [
    "s = [\"1\",\"2\",\"3\",\"1\"]\n",
    "\n",
    "sum(int(s[i]) for i in range(0, len(s), 2))\n",
    "\n"
   ]
  },
  {
   "cell_type": "code",
   "execution_count": 75,
   "metadata": {},
   "outputs": [
    {
     "data": {
      "text/plain": [
       "'21'"
      ]
     },
     "execution_count": 75,
     "metadata": {},
     "output_type": "execute_result"
    }
   ],
   "source": [
    "s = [\"21\",\"2\",\"3\",\"1\"]\n",
    "max(s, key=len)"
   ]
  },
  {
   "cell_type": "code",
   "execution_count": 81,
   "metadata": {},
   "outputs": [
    {
     "data": {
      "text/plain": [
       "['21', '2', '3', '1']"
      ]
     },
     "execution_count": 81,
     "metadata": {},
     "output_type": "execute_result"
    }
   ],
   "source": [
    "s = [\"21\",\"2\",\"3\",\"1\", \"17\"]\n",
    "\n",
    "[i for i in s if int(i)%(sum(map(int, i)))==0]"
   ]
  },
  {
   "cell_type": "code",
   "execution_count": 141,
   "metadata": {},
   "outputs": [
    {
     "data": {
      "text/plain": [
       "'\\\\wMerQZvXrfOa^xs'"
      ]
     },
     "execution_count": 141,
     "metadata": {},
     "output_type": "execute_result"
    }
   ],
   "source": [
    "import random\n",
    "length = 16\n",
    "\n",
    "''.join([chr(random.randint(60, 120)) for i in range(length)])\n"
   ]
  },
  {
   "cell_type": "code",
   "execution_count": 144,
   "metadata": {},
   "outputs": [
    {
     "data": {
      "text/plain": [
       "'1A2B3C1D1E1F'"
      ]
     },
     "execution_count": 144,
     "metadata": {},
     "output_type": "execute_result"
    }
   ],
   "source": [
    "import itertools\n",
    "\n",
    "def rle_encode(s):\n",
    "    return ''.join(f'{len(list(g))}{k}' for k, g in itertools.groupby(s))\n",
    "\n",
    "    \n",
    "\n",
    "rle_encode('ABBCCCDEF')"
   ]
  },
  {
   "cell_type": "code",
   "execution_count": 148,
   "metadata": {},
   "outputs": [
    {
     "data": {
      "text/plain": [
       "3"
      ]
     },
     "execution_count": 148,
     "metadata": {},
     "output_type": "execute_result"
    }
   ],
   "source": [
    "from functools import cache\n",
    "\n",
    "@cache\n",
    "def lev_dist(str1, str2):\n",
    "\n",
    "  len_str1 = len(str1)\n",
    "  len_str2 = len(str2)\n",
    "\n",
    "\n",
    "  dp = [[0 for _ in range(len_str2 + 1)] for _ in range(len_str1 + 1)]\n",
    "\n",
    "\n",
    "  for i in range(len_str1 + 1):\n",
    "    dp[i][0] = i\n",
    "  for j in range(len_str2 + 1):\n",
    "    dp[0][j] = j\n",
    "\n",
    " \n",
    "  for i in range(1, len_str1 + 1):\n",
    "    for j in range(1, len_str2 + 1):\n",
    "      if str1[i - 1] == str2[j - 1]:\n",
    "        cost = 0\n",
    "      else:\n",
    "        cost = 1\n",
    "\n",
    "      dp[i][j] = min(\n",
    "          dp[i - 1][j] + 1,\n",
    "          dp[i][j - 1] + 1,\n",
    "          dp[i - 1][j - 1] + cost\n",
    "      )\n",
    "\n",
    "\n",
    "  return dp[len_str1][len_str2]\n",
    "\n",
    "\n",
    "str1 = \"столб\"\n",
    "str2 = \"слон\"\n",
    "lev_dist(str1, str2)\n",
    "\n"
   ]
  },
  {
   "cell_type": "code",
   "execution_count": 2,
   "metadata": {},
   "outputs": [
    {
     "name": "stdout",
     "output_type": "stream",
     "text": [
      "Расстояние Левенштейна между 'столб' и 'слон' равно 3\n",
      "Операции: ['замена', 'замена', 'удаление']\n"
     ]
    }
   ],
   "source": [
    "def lev_dist_ops(str1, str2):\n",
    "\n",
    "  len_str1 = len(str1)\n",
    "  len_str2 = len(str2)\n",
    "\n",
    "\n",
    "  dp = [[0 for _ in range(len_str2 + 1)] for _ in range(len_str1 + 1)]\n",
    "\n",
    "\n",
    "  prev = [[None for _ in range(len_str2 + 1)] for _ in range(len_str1 + 1)]\n",
    "\n",
    "\n",
    "  for i in range(len_str1 + 1):\n",
    "    dp[i][0] = i\n",
    "    prev[i][0] = \"удаление\"\n",
    "  for j in range(len_str2 + 1):\n",
    "    dp[0][j] = j\n",
    "    prev[0][j] = \"вставка\"\n",
    "\n",
    "\n",
    "  for i in range(1, len_str1 + 1):\n",
    "    for j in range(1, len_str2 + 1):\n",
    "      if str1[i - 1] == str2[j - 1]:\n",
    "        cost = 0\n",
    "      else:\n",
    "        cost = 1\n",
    "\n",
    "      dp[i][j] = min(\n",
    "          dp[i - 1][j] + 1,\n",
    "          dp[i][j - 1] + 1,\n",
    "          dp[i - 1][j - 1] + cost\n",
    "      )\n",
    "\n",
    "      if dp[i][j] == dp[i - 1][j] + 1:\n",
    "        prev[i][j] = \"удаление\"\n",
    "      elif dp[i][j] == dp[i][j - 1] + 1:\n",
    "        prev[i][j] = \"вставка\"\n",
    "      else:\n",
    "        prev[i][j] = \"замена\" if cost == 1 else \"одинаковые\"\n",
    "\n",
    "\n",
    "  i, j = len_str1, len_str2\n",
    "  operations = []\n",
    "  while i > 0 or j > 0:\n",
    "    op = prev[i][j]\n",
    "    if op == \"удаление\":\n",
    "      operations.append(\"удаление\")\n",
    "      i -= 1\n",
    "    elif op == \"вставка\":\n",
    "      operations.append(\"вставка\")\n",
    "      j -= 1\n",
    "    elif op == \"замена\":\n",
    "      operations.append(\"замена\")\n",
    "      i -= 1\n",
    "      j -= 1\n",
    "    else:\n",
    "      i -= 1\n",
    "      j -= 1\n",
    "\n",
    "\n",
    "  operations.reverse()\n",
    "\n",
    "  return operations, dp[len_str1][len_str2]\n",
    "\n",
    "\n",
    "str1 = \"столб\"\n",
    "str2 = \"слон\"\n",
    "operations, distance = lev_dist_ops(str1, str2)\n",
    "print(f\"Расстояние Левенштейна между '{str1}' и '{str2}' равно {distance}\")\n",
    "print(f\"Операции: {operations}\")\n"
   ]
  },
  {
   "cell_type": "code",
   "execution_count": null,
   "metadata": {},
   "outputs": [],
   "source": []
  }
 ],
 "metadata": {
  "kernelspec": {
   "display_name": "Python 3",
   "language": "python",
   "name": "python3"
  },
  "language_info": {
   "codemirror_mode": {
    "name": "ipython",
    "version": 3
   },
   "file_extension": ".py",
   "mimetype": "text/x-python",
   "name": "python",
   "nbconvert_exporter": "python",
   "pygments_lexer": "ipython3",
   "version": "3.11.8"
  }
 },
 "nbformat": 4,
 "nbformat_minor": 2
}
