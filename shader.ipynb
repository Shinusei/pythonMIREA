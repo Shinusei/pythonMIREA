{
 "cells": [
  {
   "cell_type": "code",
   "execution_count": 118,
   "metadata": {},
   "outputs": [],
   "source": [
    "from math import *\n",
    "import tkinter as tk\n",
    "import time"
   ]
  },
  {
   "cell_type": "code",
   "execution_count": 119,
   "metadata": {},
   "outputs": [],
   "source": [
    "def noise(x, y):\n",
    "    a = (sin(x*12.9898+y*78.233)*43758.5453123)- (sin(x*12.9898+y*78.233)*43758.5453123)//1\n",
    "    return a\n",
    "    "
   ]
  },
  {
   "cell_type": "code",
   "execution_count": 120,
   "metadata": {},
   "outputs": [],
   "source": [
    "\n",
    "\n",
    "def draw(shader, width, height):\n",
    "    image = bytearray((0, 0, 0) * width * height)\n",
    "    for y in range(height):\n",
    "        for x in range(width):\n",
    "            pos = (width * y + x) * 3\n",
    "            color = shader(x / width, y / height)\n",
    "            normalized = [max(min(int(c * 255), 255), 0) for c in color]\n",
    "            image[pos:pos + 3] = normalized\n",
    "    header = bytes(f'P6\\n{width} {height}\\n255\\n', 'ascii')\n",
    "    return header + image\n",
    "\n",
    "\n",
    "def main(shader):\n",
    "    label = tk.Label()\n",
    "    img = tk.PhotoImage(data=draw(shader, 256, 256)).zoom(2, 2)\n",
    "    label.pack()\n",
    "    label.config(image=img)\n",
    "    tk.mainloop()\n",
    "\n",
    "\n",
    "def shader(x, y):\n",
    "    # Ваш код здесь:\n",
    "    return noise(x,y),noise(x,y), noise(x, y)\n",
    "\n",
    "\n",
    "main(shader)\n",
    "\n"
   ]
  }
 ],
 "metadata": {
  "kernelspec": {
   "display_name": "Python 3",
   "language": "python",
   "name": "python3"
  },
  "language_info": {
   "codemirror_mode": {
    "name": "ipython",
    "version": 3
   },
   "file_extension": ".py",
   "mimetype": "text/x-python",
   "name": "python",
   "nbconvert_exporter": "python",
   "pygments_lexer": "ipython3",
   "version": "3.11.7"
  }
 },
 "nbformat": 4,
 "nbformat_minor": 2
}
