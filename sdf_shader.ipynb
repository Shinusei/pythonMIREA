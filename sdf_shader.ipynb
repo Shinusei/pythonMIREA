{
 "cells": [
  {
   "cell_type": "code",
   "execution_count": 10,
   "metadata": {},
   "outputs": [],
   "source": [
    "import math\n",
    "import tkinter as tk\n",
    "\n",
    "\n",
    "def draw(shader, width, height):\n",
    "    image = bytearray((0, 0, 0) * width * height)\n",
    "    for y in range(height):\n",
    "        for x in range(width):\n",
    "            pos = (width * y + x) * 3\n",
    "            color = shader(x / width, y / height)\n",
    "            normalized = [max(min(int(c * 255), 255), 0) for c in color]\n",
    "            image[pos:pos + 3] = normalized\n",
    "    header = bytes(f'P6\\n{width} {height}\\n255\\n', 'ascii')\n",
    "    return header + image\n",
    "\n",
    "\n",
    "def main(shader):\n",
    "    label = tk.Label()\n",
    "    img = tk.PhotoImage(data=draw(shader, 256, 256)).zoom(2, 2)\n",
    "    label.pack()\n",
    "    label.config(image=img)\n",
    "    tk.mainloop()\n",
    "    \n",
    "def shader(x, y):\n",
    "    d = sdf_func(x - 0.5, y - 0.5)\n",
    "    return d > 0, abs(d) * 3, 0"
   ]
  },
  {
   "cell_type": "code",
   "execution_count": 11,
   "metadata": {},
   "outputs": [],
   "source": [
    "def circle(x, y, r):\n",
    "    return x**2+y**2-r**2\n",
    "\n",
    "def sdf_func(x, y):\n",
    "    return circle(x, y, 0.45)"
   ]
  },
  {
   "cell_type": "code",
   "execution_count": 12,
   "metadata": {},
   "outputs": [],
   "source": [
    "main(shader)"
   ]
  }
 ],
 "metadata": {
  "kernelspec": {
   "display_name": "Python 3",
   "language": "python",
   "name": "python3"
  },
  "language_info": {
   "codemirror_mode": {
    "name": "ipython",
    "version": 3
   },
   "file_extension": ".py",
   "mimetype": "text/x-python",
   "name": "python",
   "nbconvert_exporter": "python",
   "pygments_lexer": "ipython3",
   "version": "3.11.7"
  }
 },
 "nbformat": 4,
 "nbformat_minor": 2
}
