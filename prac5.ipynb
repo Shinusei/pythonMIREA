{
 "cells": [
  {
   "cell_type": "code",
   "execution_count": 1,
   "metadata": {},
   "outputs": [],
   "source": [
    "import doctest\n",
    "\n",
    "\n",
    "def distance(x1, y1, x2, y2):\n",
    "    \"\"\"\n",
    "    Calculate the distance between two points in a 2D plane.\n",
    "\n",
    "    Parameters:\n",
    "    x1 (float): x-coordinate of the first point.\n",
    "    y1 (float): y-coordinate of the first point.\n",
    "    x2 (float): x-coordinate of the second point.\n",
    "    y2 (float): y-coordinate of the second point.\n",
    "\n",
    "    Returns:\n",
    "    float: The distance between the two points.\n",
    "\n",
    "    Examples:\n",
    "    >>> distance(0, 0, 3, 4)\n",
    "    5.0\n",
    "    >>> distance(-1, -1, 2, 3)\n",
    "    5.0\n",
    "    >>> distance(0, 0, 0, 0)\n",
    "    0.0\n",
    "    \"\"\"\n",
    "    return ((x2 - x1)**2 + (y2 - y1)**2) ** 0.5\n",
    "\n",
    "if __name__ == \"__main__\":\n",
    "    doctest.testmod()"
   ]
  }
 ],
 "metadata": {
  "kernelspec": {
   "display_name": "Python 3",
   "language": "python",
   "name": "python3"
  },
  "language_info": {
   "codemirror_mode": {
    "name": "ipython",
    "version": 3
   },
   "file_extension": ".py",
   "mimetype": "text/x-python",
   "name": "python",
   "nbconvert_exporter": "python",
   "pygments_lexer": "ipython3",
   "version": "3.11.8"
  }
 },
 "nbformat": 4,
 "nbformat_minor": 2
}
