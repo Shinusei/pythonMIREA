{
 "cells": [
  {
   "cell_type": "code",
   "execution_count": null,
   "metadata": {},
   "outputs": [],
   "source": [
    "from math import log10\n",
    "\n",
    "\n",
    "def main(n):\n",
    "    if (n == 0):\n",
    "        return 0.81\n",
    "    else:\n",
    "        return log10(0.01 + main(n - 1) / 56 + 49 * main(n - 1) ** 2) ** 2\n"
   ]
  },
  {
   "cell_type": "code",
   "execution_count": null,
   "metadata": {},
   "outputs": [],
   "source": [
    "from math import log10\n",
    "\n",
    "\n",
    "def main(n):\n",
    "    res = 0.81\n",
    "    for i in range(1, n + 1):\n",
    "        res = log10(0.01 + res / 56 + 49 * res ** 2) ** 2\n",
    "    return res\n"
   ]
  },
  {
   "cell_type": "code",
   "execution_count": 21,
   "metadata": {},
   "outputs": [],
   "source": [
    "from math import log10\n",
    "\n",
    "\n",
    "def main(n):\n",
    "    res = [0.81]\n",
    "    for i in range(1, n + 1):\n",
    "        res.append(log10(0.01 + res[i-1] / 56 + 49 * res[i-1] ** 2) ** 2)\n",
    "    return res[n]\n"
   ]
  },
  {
   "cell_type": "code",
   "execution_count": 10,
   "metadata": {},
   "outputs": [],
   "source": [
    "from math import log10\n",
    "\n",
    "\n",
    "def main(n):\n",
    "    match n:\n",
    "        case 0:\n",
    "            return 0.81\n",
    "        case _:\n",
    "            return log10(0.01 + main(n - 1) / 56 + 49 * main(n - 1) ** 2) ** 2\n"
   ]
  },
  {
   "cell_type": "code",
   "execution_count": null,
   "metadata": {},
   "outputs": [],
   "source": [
    "from math import log10\n",
    "\n",
    "\n",
    "def main(n):\n",
    "    return (\n",
    "        0.81\n",
    "        if (n == 0)\n",
    "        else log10(0.01 + main(n - 1) / 56 + 49 * main(n - 1) ** 2) ** 2\n",
    "    )\n"
   ]
  },
  {
   "cell_type": "code",
   "execution_count": 12,
   "metadata": {},
   "outputs": [
    {
     "name": "stdout",
     "output_type": "stream",
     "text": [
      "17.101606954383506\n"
     ]
    }
   ],
   "source": [
    "print(main(7))"
   ]
  }
 ],
 "metadata": {
  "kernelspec": {
   "display_name": "Python 3",
   "language": "python",
   "name": "python3"
  },
  "language_info": {
   "codemirror_mode": {
    "name": "ipython",
    "version": 3
   },
   "file_extension": ".py",
   "mimetype": "text/x-python",
   "name": "python",
   "nbconvert_exporter": "python",
   "pygments_lexer": "ipython3",
   "version": "3.11.7"
  }
 },
 "nbformat": 4,
 "nbformat_minor": 2
}
