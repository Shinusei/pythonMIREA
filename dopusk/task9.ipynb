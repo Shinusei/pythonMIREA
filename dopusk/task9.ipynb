{
 "cells": [
  {
   "cell_type": "code",
   "execution_count": 50,
   "metadata": {},
   "outputs": [],
   "source": [
    "def main(string):\n",
    "    parse = string.split()\n",
    "    parse = list(filter((\"{do\").__ne__, parse))\n",
    "    parse = list(filter(('->').__ne__, parse))\n",
    "    parse = list(filter(('{').__ne__, parse))\n",
    "    parse = list(filter(('}').__ne__, parse))\n",
    "    parse = list(filter((\"do\").__ne__, parse))\n",
    "    parse = list(filter((\"new\").__ne__, parse))\n",
    "    parse = list(filter((\"done,\").__ne__, parse))\n",
    "    parse = list(filter((\"done,}\").__ne__, parse))\n",
    "    parse = list(filter((\"done,do\").__ne__, parse))\n",
    "    diction = {}\n",
    "    for i in range(1, len(parse), 2):\n",
    "        diction[str(\n",
    "            parse[i]\n",
    "            .replace('->', '')\n",
    "            .replace(\"done,do\", '')\n",
    "            .replace(\"done,\", '')\n",
    "            [1:-1]\n",
    "        )] = int(parse[i-1])\n",
    "    return diction\n"
   ]
  },
  {
   "cell_type": "code",
   "execution_count": 27,
   "metadata": {},
   "outputs": [],
   "source": [
    "import re\n",
    "\n",
    "\n",
    "def main(input_string: str) -> dict:\n",
    "    pattern = r'do(\\s|\\n)new\\s*(?P<value>-?\\d+)\\s*->\\s*\"(?P<name>\\w+)\"\\s*done,'\n",
    "    matches = re.finditer(pattern, input_string)\n",
    "    r = dict(\n",
    "        [(match.group('name'), int(match.group('value'))) for match in matches]\n",
    "    )\n",
    "    return r\n"
   ]
  },
  {
   "cell_type": "code",
   "execution_count": 28,
   "metadata": {},
   "outputs": [
    {
     "data": {
      "text/plain": [
       "{'tebe': 6137, 'bevees': 6537, 'ananar_759': 276}"
      ]
     },
     "execution_count": 28,
     "metadata": {},
     "output_type": "execute_result"
    }
   ],
   "source": [
    "main('''{ do new 6137 -> \"tebe\" done, do new 6537 -> \"bevees\" done, do new\\n276 -> \"ananar_759\" done, }''')"
   ]
  }
 ],
 "metadata": {
  "kernelspec": {
   "display_name": "Python 3",
   "language": "python",
   "name": "python3"
  },
  "language_info": {
   "codemirror_mode": {
    "name": "ipython",
    "version": 3
   },
   "file_extension": ".py",
   "mimetype": "text/x-python",
   "name": "python",
   "nbconvert_exporter": "python",
   "pygments_lexer": "ipython3",
   "version": "3.11.8"
  }
 },
 "nbformat": 4,
 "nbformat_minor": 2
}
