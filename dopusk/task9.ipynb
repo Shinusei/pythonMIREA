{
 "cells": [
  {
   "cell_type": "code",
   "execution_count": 50,
   "metadata": {},
   "outputs": [],
   "source": [
    "def main(string):\n",
    "    parse = string.split()\n",
    "    parse = list(filter((\"{do\").__ne__, parse))\n",
    "    parse = list(filter(('->').__ne__, parse))\n",
    "    parse = list(filter(('{').__ne__, parse))\n",
    "    parse = list(filter(('}').__ne__, parse))\n",
    "    parse = list(filter((\"do\").__ne__, parse))\n",
    "    parse = list(filter((\"new\").__ne__, parse))\n",
    "    parse = list(filter((\"done,\").__ne__, parse))\n",
    "    parse = list(filter((\"done,}\").__ne__, parse))\n",
    "    parse = list(filter((\"done,do\").__ne__, parse))\n",
    "    diction = {}\n",
    "    for i in range(1, len(parse), 2):\n",
    "        diction[str(\n",
    "            parse[i]\n",
    "            .replace('->', '')\n",
    "            .replace(\"done,do\", '')\n",
    "            .replace(\"done,\", '')\n",
    "            [1:-1]\n",
    "        )] = int(parse[i-1])\n",
    "    return diction\n"
   ]
  },
  {
   "cell_type": "code",
   "execution_count": 268,
   "metadata": {},
   "outputs": [],
   "source": [
    "def main(line):\n",
    "    answer = dict()\n",
    "    data = line.split(\",\")\n",
    "    for condition in data:\n",
    "        condition = condition.replace(\"\\n\", \" \").replace('''\"''', \"\")\n",
    "        if \"->\" not in condition:\n",
    "            continue\n",
    "        condition = condition.split(\"->\")\n",
    "        answer[\n",
    "            condition[1][condition[0].find('''\\\"''')+1:condition[0]\n",
    "                         .find('done')-3]\n",
    "            .strip()\n",
    "        ] = int(condition[0][: condition[0].find(\"done\")]\n",
    "                .strip(\"do new| {do new\"))\n",
    "    return answer\n"
   ]
  },
  {
   "cell_type": "code",
   "execution_count": 269,
   "metadata": {},
   "outputs": [
    {
     "name": "stdout",
     "output_type": "stream",
     "text": [
      "{'tebe': 6137, 'bevees': 6537, 'ananar_759': 276}\n",
      "{'latibe': -1708, 'onlaer': -3950}\n"
     ]
    }
   ],
   "source": [
    "print(main('''{ do new 6137 -> \"tebe\" done, do new 6537 -> \"bevees\" done, do new\\n276 ->\"ananar_759\" done, }'''))\n",
    "print(main('''{do new -1708 -> \"latibe\"done,do new -3950 -> \"onlaer\" done,}'''))"
   ]
  }
 ],
 "metadata": {
  "kernelspec": {
   "display_name": "Python 3",
   "language": "python",
   "name": "python3"
  },
  "language_info": {
   "codemirror_mode": {
    "name": "ipython",
    "version": 3
   },
   "file_extension": ".py",
   "mimetype": "text/x-python",
   "name": "python",
   "nbconvert_exporter": "python",
   "pygments_lexer": "ipython3",
   "version": "3.11.8"
  }
 },
 "nbformat": 4,
 "nbformat_minor": 2
}
