{
 "cells": [
  {
   "cell_type": "code",
   "execution_count": 135,
   "metadata": {},
   "outputs": [],
   "source": [
    "def main(string):\n",
    "    parse = string.split()\n",
    "    parse = list(filter((\"{do\").__ne__, parse))\n",
    "    parse = list(filter(('->').__ne__, parse))\n",
    "    parse = list(filter(('{').__ne__, parse))\n",
    "    parse = list(filter(('}').__ne__, parse))\n",
    "    parse = list(filter((\"do\").__ne__, parse))\n",
    "    parse = list(filter((\"new\").__ne__, parse))\n",
    "    parse = list(filter((\"done,\").__ne__, parse))\n",
    "    parse = list(filter((\"done,}\").__ne__, parse))\n",
    "    parse = list(filter((\"done,do\").__ne__, parse))\n",
    "    diction = {}\n",
    "    for i in range(1, len(parse), 2):\n",
    "        diction[str(parse[i].replace('->', '')[1:-1])] = int(parse[i-1])\n",
    "    return diction\n",
    "\n"
   ]
  },
  {
   "cell_type": "code",
   "execution_count": 136,
   "metadata": {},
   "outputs": [
    {
     "name": "stdout",
     "output_type": "stream",
     "text": [
      "['6137', '\"tebe\"', '6537', '\"bevees\"', '276', '->\"ananar_759\"']\n"
     ]
    },
    {
     "data": {
      "text/plain": [
       "{'tebe': 6137, 'bevees': 6537, 'ananar_759': 276}"
      ]
     },
     "execution_count": 136,
     "metadata": {},
     "output_type": "execute_result"
    }
   ],
   "source": [
    "main('''{ do new 6137 -> \"tebe\" done, do new 6537 -> \"bevees\" done, do new\\n276 ->\"ananar_759\" done, }''')"
   ]
  }
 ],
 "metadata": {
  "kernelspec": {
   "display_name": "Python 3",
   "language": "python",
   "name": "python3"
  },
  "language_info": {
   "codemirror_mode": {
    "name": "ipython",
    "version": 3
   },
   "file_extension": ".py",
   "mimetype": "text/x-python",
   "name": "python",
   "nbconvert_exporter": "python",
   "pygments_lexer": "ipython3",
   "version": "3.11.8"
  }
 },
 "nbformat": 4,
 "nbformat_minor": 2
}
