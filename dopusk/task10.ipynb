{
 "cells": [
  {
   "cell_type": "code",
   "execution_count": null,
   "metadata": {},
   "outputs": [],
   "source": [
    "import copy\n",
    "\n",
    "\n",
    "def toFixed(numObj, digits=0):\n",
    "    return f\"{numObj:.{digits}f}\"\n",
    "\n",
    "\n",
    "def cycle(output_table, row_index, col_index, cell):\n",
    "    if (('alse' in cell or 'rue' in cell)):\n",
    "        output_table[row_index][col_index] = \"Y\" if 'rue' in cell else \"N\"\n",
    "    elif (' ' not in cell and isinstance(cell, str)):\n",
    "        cell = float(cell)\n",
    "        output_table[row_index][col_index] = toFixed(round(cell, 2), 2)\n",
    "    else:\n",
    "        output_table[row_index][col_index] = \\\n",
    "          output_table[row_index][col_index][5:]\n",
    "    return output_table\n",
    "\n",
    "\n",
    "def main(input_table):\n",
    "    table = copy.deepcopy(input_table)\n",
    "    output_table = [row for row in table if isinstance(row[0], str)]\n",
    "    for row_index, row in enumerate(output_table):\n",
    "        for col_index, cell in enumerate(row):\n",
    "            if (isinstance(cell, str)):\n",
    "                output_table = cycle(output_table, row_index, col_index, cell)\n",
    "    return output_table\n"
   ]
  },
  {
   "cell_type": "code",
   "execution_count": null,
   "metadata": {},
   "outputs": [],
   "source": [
    "def main(input_table):\n",
    "    table = copy.deepcopy(input_table)\n",
    "    output_table = [row for row in table if isinstance(row[0], str)]\n",
    "    for row in output_table:\n",
    "        for col in row:\n",
    "            row = (row\n",
    "                .replace(\"True\", \"Y\")\n",
    "                .replace(\"true\", \"Y\")\n",
    "                .replace(\"false\", \"N\")\n",
    "                .replace(\"False\", \"N\")\n",
    "            )"
   ]
  },
  {
   "cell_type": "code",
   "execution_count": 41,
   "metadata": {},
   "outputs": [],
   "source": [
    "def main(t):\n",
    "    a = [r[:] for r in t]\n",
    "    r = []\n",
    "    for i in range(len(a)-1):\n",
    "        if a[i][0] is None:\n",
    "            #i-=1\n",
    "            continue\n",
    "        r[i].append(a[i][0]\n",
    "                    .replace(\"True\", \"Y\")\n",
    "                    .replace(\"true\", \"Y\")\n",
    "                    .replace(\"false\", \"N\")\n",
    "                    .replace(\"False\", \"N\"))\n",
    "        r[i].append('{:.2f}'.format(round(float(a[i][1]), 2)))\n",
    "        r[i].append(a[i][2].split(' ')[1])\n",
    "    return r"
   ]
  },
  {
   "cell_type": "code",
   "execution_count": 43,
   "metadata": {},
   "outputs": [
    {
     "ename": "IndexError",
     "evalue": "list index out of range",
     "output_type": "error",
     "traceback": [
      "\u001b[0;31m---------------------------------------------------------------------------\u001b[0m",
      "\u001b[0;31mIndexError\u001b[0m                                Traceback (most recent call last)",
      "Cell \u001b[0;32mIn[43], line 5\u001b[0m\n\u001b[1;32m      1\u001b[0m \u001b[38;5;66;03m# Примеры использования\u001b[39;00m\n\u001b[1;32m      2\u001b[0m input_table1 \u001b[38;5;241m=\u001b[39m [[\u001b[38;5;124m'\u001b[39m\u001b[38;5;124mfalse\u001b[39m\u001b[38;5;124m'\u001b[39m, \u001b[38;5;124m'\u001b[39m\u001b[38;5;124m0.844\u001b[39m\u001b[38;5;124m'\u001b[39m, \u001b[38;5;124m'\u001b[39m\u001b[38;5;124mЕ.А. Насянц\u001b[39m\u001b[38;5;124m'\u001b[39m], [\u001b[38;5;28;01mNone\u001b[39;00m, \u001b[38;5;28;01mNone\u001b[39;00m, \u001b[38;5;28;01mNone\u001b[39;00m], [\u001b[38;5;124m'\u001b[39m\u001b[38;5;124mfalse\u001b[39m\u001b[38;5;124m'\u001b[39m, \u001b[38;5;124m'\u001b[39m\u001b[38;5;124m0.497\u001b[39m\u001b[38;5;124m'\u001b[39m, \u001b[38;5;124m'\u001b[39m\u001b[38;5;124mЛ.Е. Точак\u001b[39m\u001b[38;5;124m'\u001b[39m], [\u001b[38;5;124m'\u001b[39m\u001b[38;5;124mtrue\u001b[39m\u001b[38;5;124m'\u001b[39m, \u001b[38;5;124m'\u001b[39m\u001b[38;5;124m0.066\u001b[39m\u001b[38;5;124m'\u001b[39m, \u001b[38;5;124m'\u001b[39m\u001b[38;5;124mБ.З. Мофак\u001b[39m\u001b[38;5;124m'\u001b[39m]]\n\u001b[0;32m----> 5\u001b[0m output_table1 \u001b[38;5;241m=\u001b[39m \u001b[43mmain\u001b[49m\u001b[43m(\u001b[49m\u001b[43minput_table1\u001b[49m\u001b[43m)\u001b[49m\n\u001b[1;32m      6\u001b[0m \u001b[38;5;28mprint\u001b[39m(output_table1)\n",
      "Cell \u001b[0;32mIn[41], line 8\u001b[0m, in \u001b[0;36mmain\u001b[0;34m(t)\u001b[0m\n\u001b[1;32m      5\u001b[0m \u001b[38;5;28;01mif\u001b[39;00m a[i][\u001b[38;5;241m0\u001b[39m] \u001b[38;5;129;01mis\u001b[39;00m \u001b[38;5;28;01mNone\u001b[39;00m:\n\u001b[1;32m      6\u001b[0m     \u001b[38;5;66;03m#i-=1\u001b[39;00m\n\u001b[1;32m      7\u001b[0m     \u001b[38;5;28;01mcontinue\u001b[39;00m\n\u001b[0;32m----> 8\u001b[0m \u001b[43mr\u001b[49m\u001b[43m[\u001b[49m\u001b[43mi\u001b[49m\u001b[43m]\u001b[49m\u001b[38;5;241m.\u001b[39mappend(a[i][\u001b[38;5;241m0\u001b[39m]\n\u001b[1;32m      9\u001b[0m             \u001b[38;5;241m.\u001b[39mreplace(\u001b[38;5;124m\"\u001b[39m\u001b[38;5;124mTrue\u001b[39m\u001b[38;5;124m\"\u001b[39m, \u001b[38;5;124m\"\u001b[39m\u001b[38;5;124mY\u001b[39m\u001b[38;5;124m\"\u001b[39m)\n\u001b[1;32m     10\u001b[0m             \u001b[38;5;241m.\u001b[39mreplace(\u001b[38;5;124m\"\u001b[39m\u001b[38;5;124mtrue\u001b[39m\u001b[38;5;124m\"\u001b[39m, \u001b[38;5;124m\"\u001b[39m\u001b[38;5;124mY\u001b[39m\u001b[38;5;124m\"\u001b[39m)\n\u001b[1;32m     11\u001b[0m             \u001b[38;5;241m.\u001b[39mreplace(\u001b[38;5;124m\"\u001b[39m\u001b[38;5;124mfalse\u001b[39m\u001b[38;5;124m\"\u001b[39m, \u001b[38;5;124m\"\u001b[39m\u001b[38;5;124mN\u001b[39m\u001b[38;5;124m\"\u001b[39m)\n\u001b[1;32m     12\u001b[0m             \u001b[38;5;241m.\u001b[39mreplace(\u001b[38;5;124m\"\u001b[39m\u001b[38;5;124mFalse\u001b[39m\u001b[38;5;124m\"\u001b[39m, \u001b[38;5;124m\"\u001b[39m\u001b[38;5;124mN\u001b[39m\u001b[38;5;124m\"\u001b[39m))\n\u001b[1;32m     13\u001b[0m r[i]\u001b[38;5;241m.\u001b[39mappend(\u001b[38;5;124m'\u001b[39m\u001b[38;5;132;01m{:.2f}\u001b[39;00m\u001b[38;5;124m'\u001b[39m\u001b[38;5;241m.\u001b[39mformat(\u001b[38;5;28mround\u001b[39m(\u001b[38;5;28mfloat\u001b[39m(a[i][\u001b[38;5;241m1\u001b[39m]), \u001b[38;5;241m2\u001b[39m)))\n\u001b[1;32m     14\u001b[0m r[i]\u001b[38;5;241m.\u001b[39mappend(a[i][\u001b[38;5;241m2\u001b[39m]\u001b[38;5;241m.\u001b[39msplit(\u001b[38;5;124m'\u001b[39m\u001b[38;5;124m \u001b[39m\u001b[38;5;124m'\u001b[39m)[\u001b[38;5;241m1\u001b[39m])\n",
      "\u001b[0;31mIndexError\u001b[0m: list index out of range"
     ]
    }
   ],
   "source": [
    "# Примеры использования\n",
    "input_table1 = [['false', '0.844', 'Е.А. Насянц'], [None, None, None], ['false', '0.497', 'Л.Е. Точак'], ['true', '0.066', 'Б.З. Мофак']]\n",
    "\n",
    "\n",
    "output_table1 = main(input_table1)\n",
    "print(output_table1)\n"
   ]
  }
 ],
 "metadata": {
  "kernelspec": {
   "display_name": "Python 3",
   "language": "python",
   "name": "python3"
  },
  "language_info": {
   "codemirror_mode": {
    "name": "ipython",
    "version": 3
   },
   "file_extension": ".py",
   "mimetype": "text/x-python",
   "name": "python",
   "nbconvert_exporter": "python",
   "pygments_lexer": "ipython3",
   "version": "3.11.8"
  }
 },
 "nbformat": 4,
 "nbformat_minor": 2
}
