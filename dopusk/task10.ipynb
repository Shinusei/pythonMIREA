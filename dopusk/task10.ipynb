{
 "cells": [
  {
   "cell_type": "code",
   "execution_count": 121,
   "metadata": {},
   "outputs": [],
   "source": [
    "import copy\n",
    "\n",
    "\n",
    "def toFixed(numObj, digits=0):\n",
    "    return f\"{numObj:.{digits}f}\"\n",
    "\n",
    "\n",
    "def cycle(output_table, row_index, col_index, cell):\n",
    "    if (('alse' in cell or 'rue' in cell)):\n",
    "        output_table[row_index][col_index] = \"Y\" if 'rue' in cell else \"N\"\n",
    "    elif (' ' not in cell and isinstance(cell, str)):\n",
    "        cell = float(cell)\n",
    "        output_table[row_index][col_index] = toFixed(round(cell, 2), 2)\n",
    "    else:\n",
    "        output_table[row_index][col_index] = \\\n",
    "          output_table[row_index][col_index][5:]\n",
    "    return output_table\n",
    "\n",
    "\n",
    "def main(input_table):\n",
    "    table = copy.deepcopy(input_table)\n",
    "    output_table = [row for row in table if isinstance(row[0], str)]\n",
    "    for row_index, row in enumerate(output_table):\n",
    "        for col_index, cell in enumerate(row):\n",
    "            if (isinstance(cell, str)):\n",
    "                output_table = cycle(output_table, row_index, col_index, cell)\n",
    "    return output_table\n"
   ]
  },
  {
   "cell_type": "code",
   "execution_count": 122,
   "metadata": {},
   "outputs": [
    {
     "name": "stdout",
     "output_type": "stream",
     "text": [
      "[['N', '0.84', 'Насянц'], ['N', '0.50', 'Точак'], ['Y', '0.07', 'Мофак']]\n"
     ]
    }
   ],
   "source": [
    "# Примеры использования\n",
    "input_table1 = [['false', '0.844', 'Е.А. Насянц'], [None, None, None], ['false', '0.497', 'Л.Е. Точак'], ['true', '0.066', 'Б.З. Мофак']]\n",
    "\n",
    "\n",
    "output_table1 = main(input_table1)\n",
    "print(output_table1)\n"
   ]
  }
 ],
 "metadata": {
  "kernelspec": {
   "display_name": "Python 3",
   "language": "python",
   "name": "python3"
  },
  "language_info": {
   "codemirror_mode": {
    "name": "ipython",
    "version": 3
   },
   "file_extension": ".py",
   "mimetype": "text/x-python",
   "name": "python",
   "nbconvert_exporter": "python",
   "pygments_lexer": "ipython3",
   "version": "3.11.8"
  }
 },
 "nbformat": 4,
 "nbformat_minor": 2
}
