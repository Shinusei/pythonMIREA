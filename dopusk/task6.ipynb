{
 "cells": [
  {
   "cell_type": "code",
   "execution_count": 171,
   "metadata": {},
   "outputs": [],
   "source": [
    "from math import ceil, floor\n",
    "\n",
    "\n",
    "def main(m):\n",
    "    K = set(8 * d - ceil(d/9) for d in m if (d > -87 and d < 50))\n",
    "    D = set(6 * k for k in K if (bool(k <= 41) ^ bool(k > -32)))\n",
    "    N = set(a - ceil(a / 6) for a in m if a > -12)\n",
    "    return (len(N) + sum(floor(v/4) + floor(w/3) for v in N for w in D))\n"
   ]
  },
  {
   "cell_type": "code",
   "execution_count": 170,
   "metadata": {},
   "outputs": [
    {
     "name": "stdout",
     "output_type": "stream",
     "text": [
      "-10786\n"
     ]
    }
   ],
   "source": [
    "print(main({33, -62, -25, -22, -3, -72, -42, -40, 60, 61}))"
   ]
  },
  {
   "cell_type": "code",
   "execution_count": 172,
   "metadata": {},
   "outputs": [
    {
     "name": "stdout",
     "output_type": "stream",
     "text": [
      "-11230\n"
     ]
    }
   ],
   "source": [
    "print(main({33, -38, 35, -28, -55, -13, -40, -72, 90, -4}))"
   ]
  }
 ],
 "metadata": {
  "kernelspec": {
   "display_name": "Python 3",
   "language": "python",
   "name": "python3"
  },
  "language_info": {
   "codemirror_mode": {
    "name": "ipython",
    "version": 3
   },
   "file_extension": ".py",
   "mimetype": "text/x-python",
   "name": "python",
   "nbconvert_exporter": "python",
   "pygments_lexer": "ipython3",
   "version": "3.11.7"
  }
 },
 "nbformat": 4,
 "nbformat_minor": 2
}
