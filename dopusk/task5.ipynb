{
 "cells": [
  {
   "cell_type": "code",
   "execution_count": 224,
   "metadata": {},
   "outputs": [],
   "source": [
    "from math import floor, ceil\n",
    "\n",
    "\n",
    "def main(z, x, y):\n",
    "    s = 0\n",
    "    n = len(z)\n",
    "\n",
    "    for i in range(1, n + 1):\n",
    "        s += (93 * z[n + 1 - i - 1] ** 2 - 38 * y[ceil(i / 2) - 1]\n",
    "              - x[i - 1] ** 3) ** 7\n",
    "    return 7 * s\n"
   ]
  },
  {
   "cell_type": "code",
   "execution_count": null,
   "metadata": {},
   "outputs": [],
   "source": []
  },
  {
   "cell_type": "code",
   "execution_count": null,
   "metadata": {},
   "outputs": [],
   "source": []
  },
  {
   "cell_type": "code",
   "execution_count": null,
   "metadata": {},
   "outputs": [],
   "source": []
  },
  {
   "cell_type": "code",
   "execution_count": 225,
   "metadata": {},
   "outputs": [
    {
     "name": "stdout",
     "output_type": "stream",
     "text": [
      "46917023503633.01\n"
     ]
    }
   ],
   "source": [
    "print(main([0.25, 0.04, -0.61, 0.58, 0.56, 0.94, -0.07],\n",
    "[-0.49, -0.11, 0.57, 0.65, 0.63, 0.44, 0.49],\n",
    "[0.63, -0.34, -0.75, -0.31, -0.12, -0.18, 0.19]))"
   ]
  }
 ],
 "metadata": {
  "kernelspec": {
   "display_name": "Python 3",
   "language": "python",
   "name": "python3"
  },
  "language_info": {
   "codemirror_mode": {
    "name": "ipython",
    "version": 3
   },
   "file_extension": ".py",
   "mimetype": "text/x-python",
   "name": "python",
   "nbconvert_exporter": "python",
   "pygments_lexer": "ipython3",
   "version": "3.11.7"
  }
 },
 "nbformat": 4,
 "nbformat_minor": 2
}
