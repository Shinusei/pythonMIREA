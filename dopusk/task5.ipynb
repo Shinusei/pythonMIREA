{
 "cells": [
  {
   "cell_type": "code",
   "execution_count": null,
   "metadata": {},
   "outputs": [],
   "source": [
    "from math import ceil\n",
    "\n",
    "\n",
    "def main(z, x, y):\n",
    "    s = 0\n",
    "    n = len(z)\n",
    "\n",
    "    for i in range(1, n + 1):\n",
    "        s += (93 * z[n + 1 - i - 1] ** 2 - 38 * y[ceil(i / 2) - 1]\n",
    "              - x[i - 1] ** 3) ** 7\n",
    "    return 7 * s\n"
   ]
  },
  {
   "cell_type": "code",
   "execution_count": 54,
   "metadata": {},
   "outputs": [],
   "source": [
    "from math import ceil\n",
    "\n",
    "\n",
    "def main(z, x, y):\n",
    "    s = 0\n",
    "    y = [val for val in y for _ in (0, 1)]\n",
    "    a = [38 * i for i in y]\n",
    "    b = [93 * j ** 2 for j in reversed(z)]\n",
    "    c = [k ** 3 for k in x]\n",
    "    for i in range(len(c)):\n",
    "        s += (b[i] - a[i] - c[i]) ** 7\n",
    "    return 7 * s\n"
   ]
  },
  {
   "cell_type": "code",
   "execution_count": 30,
   "metadata": {},
   "outputs": [],
   "source": [
    "from math import ceil\n",
    "\n",
    "\n",
    "def main(z, x, y):\n",
    "    s = 0\n",
    "    i = 1\n",
    "    n = len(y)\n",
    "    while i < n + 1:\n",
    "        s += (93 * z[n + 1 - i - 1] ** 2 - 38 * y[ceil(i / 2) - 1]\n",
    "              - x[i - 1] ** 3) ** 7\n",
    "        i += 1\n",
    "    return 7 * s\n"
   ]
  },
  {
   "cell_type": "code",
   "execution_count": 74,
   "metadata": {},
   "outputs": [],
   "source": [
    "from math import ceil\n",
    "\n",
    "\n",
    "def main(z, x, y, i=1, s=0):\n",
    "    if i == len(y) + 1:\n",
    "        return 7 * s\n",
    "    return main(\n",
    "        z,\n",
    "        x,\n",
    "        y,\n",
    "        i + 1,\n",
    "        s + (93 * z[-i] ** 2 - 38 * y[ceil(i / 2) - 1] - x[i - 1] ** 3) ** 7,\n",
    "    )\n"
   ]
  },
  {
   "cell_type": "code",
   "execution_count": 75,
   "metadata": {},
   "outputs": [
    {
     "name": "stdout",
     "output_type": "stream",
     "text": [
      "0\n",
      "92524227177.03885\n",
      "1264746068373.2078\n",
      "5437903696235.348\n",
      "5437967987873.748\n",
      "10112229518829.484\n",
      "11872088786623.688\n",
      "11934673550602.266\n",
      "83542714854215.86\n"
     ]
    }
   ],
   "source": [
    "print(main([-0.79, -0.78, 0.84, 0.47, -0.87, -0.55, -0.38],\n",
    "[0.96, -0.81, 0.31, 0.87, 0.88, 0.37, -0.09],\n",
    "[-0.64, 0.18, 0.01, 0.61, 0.56, -0.93, -0.26]))"
   ]
  }
 ],
 "metadata": {
  "kernelspec": {
   "display_name": "Python 3",
   "language": "python",
   "name": "python3"
  },
  "language_info": {
   "codemirror_mode": {
    "name": "ipython",
    "version": 3
   },
   "file_extension": ".py",
   "mimetype": "text/x-python",
   "name": "python",
   "nbconvert_exporter": "python",
   "pygments_lexer": "ipython3",
   "version": "3.11.7"
  }
 },
 "nbformat": 4,
 "nbformat_minor": 2
}
